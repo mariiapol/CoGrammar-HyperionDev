{
 "cells": [
  {
   "cell_type": "markdown",
   "metadata": {
    "id": "IBb6nSAY5T4I"
   },
   "source": [
    "# Machine Learning\n",
    "## Compulsory task"
   ]
  },
  {
   "cell_type": "markdown",
   "metadata": {
    "id": "N02Qu9_f1N45"
   },
   "source": [
    "1. For each of the following examples describe at least one possible input and\n",
    "output. Justify your answers:  \n",
    "* 1.1 A self-driving car\n",
    "* 1.2 Netflix recommendation system\n",
    "* 1.3 Signature recognition\n",
    "* 1.4 Medical diagnosis\n"
   ]
  },
  {
   "cell_type": "markdown",
   "metadata": {
    "id": "-8aBqprP3ypo"
   },
   "source": [
    "1. Answer here\n",
    "\n",
    "|      | Input(s)                   | Output                                        |\n",
    "| ---- | ---------------------------| ----------------------------------------------|\n",
    "| 1.1  |GPS, images, lidar, radar   |steering angle, acceleration, braking          |\n",
    "| 1.2  |ratings, watch history      |personalized recommendations: titles, ratings  |           \n",
    "| 1.3  |image of hadwriten signature|name of person who signed it                   |\n",
    "| 1.4  |symptoms, test results      | diagnosis, treatment, prescription            |\n",
    "\n",
    "Justification:\n",
    "\n",
    "The input data for a self-driving car tell the car what is happening around it, and the output data tell the car what to do.\n",
    "A Netflix recommendation system uses MLM (machine learning models) to learn the preferences and tastes of the users, and to predict the ratings for each user. The input data teach the models what to do, and the output data give the user better options.\n",
    "A signature recognition system uses MLM to extract the features and patterns of the signatures, and to compare them with a database of known signatures. The input data show how the signature looks, and the output data tell who signed it.\n",
    "A medical diagnosis system uses MLM to learn the relationships between the medical data and the diagnoses, and to apply them to new cases."
   ]
  },
  {
   "cell_type": "markdown",
   "metadata": {
    "id": "l_I2f4C85yNF"
   },
   "source": [
    "\n",
    "2. For each of the following case studies, determine whether it is appropriate to utilise regression or classification machine learning algorithms. Justify your answers:\n",
    "* 2.1 Classifying emails as promotion or social based on their content and metadata.\n",
    "* 2.2 Forecasting the stock price of a company based on historical data and market trends.\n",
    "* 2.3 Sorting images of animals into different species based on their visual features.\n",
    "* 2.4 Predicting the likelihood of a patient having a particular disease based on medical history and diagnostic test results."
   ]
  },
  {
   "cell_type": "markdown",
   "metadata": {
    "id": "WgMUsqQr6qFU"
   },
   "source": [
    "2. Answer here\n",
    "* 2.1 A classification algorithm, because it can learn the features and patterns of the content and metadata of the emails, and assign them to the appropriate class.\n",
    "* 2.2  A regression algorithm, because the output is a continuous numerical value, such as the stock price, that indicates the future value of the company. It can learn the relationship between the historical data and market trends, and predict the stock price based on the input variables.\n",
    "* 2.3 A classification algorithm can learn the visual features and characteristics of the images of animals, and classify them into different species.\n",
    "* 2.4 This can be either a regression or a classification problem, depending on how the output is defined. If the output is a continuous numerical value, such as the probability of having a disease, then it is a regression problem. A regression algorithm can learn the correlation between the medical history and test results, and estimate the likelihood of having a disease. If the output is a discrete label or category, such as yes or no, then it is a classification problem. A classification algorithm can learn the rules and thresholds for diagnosing a disease, and assign a binary label to the patient."
   ]
  },
  {
   "cell_type": "markdown",
   "metadata": {
    "id": "b6f8UETG64hH"
   },
   "source": [
    "3. For each of the following real-world problems, determine whether it is appropriate to utilise a supervised or unsupervised machine learning algorithm. Justify your answers:\n",
    "* 3.1 Detecting anomalies in a manufacturing process using sensor data without prior knowledge of specific anomaly patterns.\n",
    "* 3.2 Predicting customer lifetime value based on historical transaction data and customer demographics.\n",
    "* 3.3 Segmenting customer demographics based on their purchase history, browsing behaviour, and preferences.\n",
    "* 3.4 Analysing social media posts to categorise them into different themes.\n"
   ]
  },
  {
   "cell_type": "markdown",
   "metadata": {
    "id": "W6dTYBvd675O"
   },
   "source": [
    "3. Answer here\n",
    "* 3.1 Unsupervised learning, because the output is not known in advance. Unsupervised learning algorithms can learn to find patterns and relationships in the sensor data, and identify outliers or anomalies that deviate from the normal behaviour.\n",
    "* 3.2 Supervised learning, because the output is a continuous numerical value that can be calculated from the historical data. Supervised learning algorithms can learn the relationship between the input data (transaction data and demographics) and the output data (customer lifetime value), and predict the output for new customers.\n",
    "* 3.3 Unsupervised learning problem, because the output is not known or labeled in advance. Unsupervised learning algorithms can learn to find patterns and similarities in the customer data, and group them into different segments or clusters based on their behaviour and preferences.\n",
    "* 3.4 Depending on how the output is defined: a)if the output is not predefined or labeled, and the algorithm has to discover the themes from the posts, then it is an unsupervised learning problem. b)if the output is a discrete label or category, such as the theme name, that is predefined and assigned to the posts, then it is a supervised learning problem. "
   ]
  },
  {
   "cell_type": "markdown",
   "metadata": {
    "id": "bqsun96o64xe"
   },
   "source": [
    "4.\n",
    "For each of the following real-world problems, determine whether it is appropriate to utilise semi-supervised machine learning algorithms. Justify your answers:\n",
    "* 4.1 Predicting fraudulent financial transactions using a dataset where most transactions are labelled as fraudulent or legitimate.\n",
    "* 4.2 Analysing customer satisfaction surveys where only a small portion of the data is labelled with satisfaction ratings.\n",
    "* 4.3 Identifying spam emails in a dataset where the majority of emails are labelled.\n",
    "* 4.4 Predicting the probability of default for credit card applicants based on their complete financial and credit-related information.\n"
   ]
  },
  {
   "cell_type": "markdown",
   "metadata": {
    "id": "aTWugZ6q68GF"
   },
   "source": [
    "4. Answer here\n",
    "* 4.1 This is not a suitable problem for semi-supervised learning, because there is already a large amount of labeled data available. Semi-supervised learning is more useful when there is a scarcity of labeled data and an abundance of unlabeled data. \n",
    "* 4.2 This is a suitable problem for semi-supervised learning, because there is a small amount of labeled data and a large amount of unlabeled data. Semi-supervised learning can leverage the information from both types of data to improve the performance of the analysis. For example, a semi-supervised learning algorithm can use the unlabeled data to cluster the data into different groups, and then use the labeled data to assign labels to the clusters.\n",
    "* 4.3 This is not a suitable problem for semi-supervised learning, because there is already a large amount of labeled data available.  A supervised learning algorithm can be used to train a classifier on the labeled data, and then apply it to the unlabeled data. \n",
    "* 4.4 This is not a suitable problem for semi-supervised learning, because there is no unlabeled data available.  In this case, a supervised learning algorithm can be used to train a regression model on the labeled data, and then use it to predict the probability of default for new applicants.\n"
   ]
  }
 ],
 "metadata": {
  "colab": {
   "provenance": []
  },
  "kernelspec": {
   "display_name": "Python 3 (ipykernel)",
   "language": "python",
   "name": "python3"
  },
  "language_info": {
   "codemirror_mode": {
    "name": "ipython",
    "version": 3
   },
   "file_extension": ".py",
   "mimetype": "text/x-python",
   "name": "python",
   "nbconvert_exporter": "python",
   "pygments_lexer": "ipython3",
   "version": "3.11.4"
  }
 },
 "nbformat": 4,
 "nbformat_minor": 1
}
